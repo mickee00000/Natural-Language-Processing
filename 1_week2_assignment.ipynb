{
 "cells": [
  {
   "cell_type": "code",
   "execution_count": 1,
   "outputs": [],
   "source": [
    "import numpy as np\n",
    "import pandas as pd\n",
    "import matplotlib.pyplot as plt"
   ],
   "metadata": {
    "collapsed": false
   }
  },
  {
   "cell_type": "code",
   "execution_count": 2,
   "outputs": [],
   "source": [
    "import nltk\n",
    "from nltk.corpus import twitter_samples"
   ],
   "metadata": {
    "collapsed": false
   }
  },
  {
   "cell_type": "code",
   "execution_count": 3,
   "outputs": [],
   "source": [
    "from utils import process_tweet, lookup"
   ],
   "metadata": {
    "collapsed": false
   }
  },
  {
   "cell_type": "code",
   "execution_count": 4,
   "outputs": [],
   "source": [
    "positive = twitter_samples.strings('positive_tweets.json')\n",
    "negative = twitter_samples.strings('negative_tweets.json')"
   ],
   "metadata": {
    "collapsed": false
   }
  },
  {
   "cell_type": "code",
   "execution_count": 5,
   "outputs": [],
   "source": [
    "full = positive + negative"
   ],
   "metadata": {
    "collapsed": false
   }
  },
  {
   "cell_type": "code",
   "execution_count": 6,
   "outputs": [],
   "source": [
    "X_train = positive[:4000] + negative[:4000]\n",
    "X_test = positive[4000:] + negative[4000:]"
   ],
   "metadata": {
    "collapsed": false
   }
  },
  {
   "cell_type": "code",
   "execution_count": 7,
   "outputs": [],
   "source": [
    "y_train = np.append(np.ones(len(positive[:4000])), np.zeros(len(negative[:4000])))\n",
    "y_test = np.append(np.ones(len(positive[4000:])), np.zeros(len(negative[4000:])))"
   ],
   "metadata": {
    "collapsed": false
   }
  },
  {
   "cell_type": "code",
   "execution_count": 8,
   "outputs": [
    {
     "data": {
      "text/plain": "(8000, 2000, 8000, 2000)"
     },
     "execution_count": 8,
     "metadata": {},
     "output_type": "execute_result"
    }
   ],
   "source": [
    "len(X_train), len(X_test), len(y_train), len(y_test)"
   ],
   "metadata": {
    "collapsed": false
   }
  },
  {
   "cell_type": "code",
   "execution_count": 9,
   "outputs": [],
   "source": [
    "############################################ COUNT TWEETS FUNCTION #####################################################"
   ],
   "metadata": {
    "collapsed": false
   }
  },
  {
   "cell_type": "code",
   "execution_count": 10,
   "outputs": [],
   "source": [
    "def count_tweets(tweets, labels):\n",
    "\n",
    "    output = {}\n",
    "\n",
    "    for tweet, label in zip(tweets, labels):\n",
    "        for word in process_tweet(tweet):\n",
    "            if (word,label) in output:\n",
    "                output[(word,label)] += 1\n",
    "            else:\n",
    "                output[(word,label)] = 1\n",
    "\n",
    "    return output"
   ],
   "metadata": {
    "collapsed": false
   }
  },
  {
   "cell_type": "code",
   "execution_count": 11,
   "outputs": [
    {
     "data": {
      "text/plain": "{('happi', 1): 1, ('trick', 0): 1, ('sad', 0): 1, ('tire', 0): 2}"
     },
     "execution_count": 11,
     "metadata": {},
     "output_type": "execute_result"
    }
   ],
   "source": [
    "tweets = ['i am happy', 'i am tricked', 'i am sad', 'i am tired', 'i am tired']\n",
    "ys = [1, 0, 0, 0, 0]\n",
    "result = count_tweets(tweets, ys)\n",
    "result"
   ],
   "metadata": {
    "collapsed": false
   }
  },
  {
   "cell_type": "code",
   "execution_count": 12,
   "outputs": [],
   "source": [
    "freq_table = count_tweets(X_train, y_train)"
   ],
   "metadata": {
    "collapsed": false
   }
  },
  {
   "cell_type": "markdown",
   "source": [
    "freq_table = count_tweets(X_train, y_train)\n",
    "V = len(set(i[0] for i in freq_table.keys()))\n",
    "N_pos, N_neg = 0,0\n",
    "D_pos, D_neg = 0,0\n",
    "\n",
    "\n",
    "for key, value in freq_table.items():\n",
    "    if key[1] == 1:\n",
    "        D_pos += 1\n",
    "        N_pos += value\n",
    "    else:\n",
    "        D_neg += 1\n",
    "        N_neg += value\n",
    "\n",
    "    # Calculate D_pos, the number of positive documents\n",
    "D__pos = (len(list(filter(lambda x: x == 1 , y_train))))\n",
    "\n",
    "    # Calculate D_neg, the number of negative documents\n",
    "D__neg = (len(list(filter(lambda x: x == 0, y_train))))\n",
    "\n",
    "V, N_pos, N_neg, D_pos, D_neg,D__pos, D__neg"
   ],
   "metadata": {
    "collapsed": false
   }
  },
  {
   "cell_type": "code",
   "execution_count": 13,
   "outputs": [],
   "source": [
    "def train_naive_bayes(X_train, y_train):\n",
    "    freq_table = count_tweets(X_train, y_train)\n",
    "\n",
    "    vocab = list(set(i[0] for i in freq_table.keys()))\n",
    "    V = len(set(i[0] for i in freq_table.keys()))\n",
    "\n",
    "    N_pos, N_neg = 0,0\n",
    "    D_pos, D_neg = 0,0\n",
    "\n",
    "\n",
    "    for key, value in freq_table.items():\n",
    "        if key[1] == 1:\n",
    "            N_pos += value\n",
    "        else:\n",
    "            N_neg += value\n",
    "\n",
    "    D_pos = len(list(filter(lambda x: x == 1 , y_train)))\n",
    "    D_neg = len(list(filter(lambda x: x == 0 , y_train)))\n",
    "\n",
    "    logprior = np.log(D_pos) - np.log(D_neg)\n",
    "    loglikelihood = {}\n",
    "\n",
    "    for word in vocab:\n",
    "\n",
    "        freq_pos = lookup(freq_table,word,1)\n",
    "        freq_neg = lookup(freq_table,word,0)\n",
    "\n",
    "        prob_pos = (freq_pos) / (N_pos + V)\n",
    "        prob_neg = (freq_neg) / (N_neg + V)\n",
    "\n",
    "        loglikelihood[word] = np.log(prob_pos/prob_neg)\n",
    "\n",
    "    return loglikelihood, logprior\n",
    "\n"
   ],
   "metadata": {
    "collapsed": false
   }
  },
  {
   "cell_type": "code",
   "execution_count": 14,
   "outputs": [
    {
     "ename": "ZeroDivisionError",
     "evalue": "float division by zero",
     "output_type": "error",
     "traceback": [
      "\u001B[1;31m---------------------------------------------------------------------------\u001B[0m",
      "\u001B[1;31mZeroDivisionError\u001B[0m                         Traceback (most recent call last)",
      "Input \u001B[1;32mIn [14]\u001B[0m, in \u001B[0;36m<cell line: 1>\u001B[1;34m()\u001B[0m\n\u001B[1;32m----> 1\u001B[0m loglikelihood , logprior \u001B[38;5;241m=\u001B[39m \u001B[43mtrain_naive_bayes\u001B[49m\u001B[43m(\u001B[49m\u001B[43m \u001B[49m\u001B[43mX_train\u001B[49m\u001B[43m,\u001B[49m\u001B[43m \u001B[49m\u001B[43my_train\u001B[49m\u001B[43m)\u001B[49m\n\u001B[0;32m      2\u001B[0m \u001B[38;5;28mprint\u001B[39m(logprior)\n\u001B[0;32m      3\u001B[0m \u001B[38;5;28mprint\u001B[39m(\u001B[38;5;28mlen\u001B[39m(loglikelihood))\n",
      "Input \u001B[1;32mIn [13]\u001B[0m, in \u001B[0;36mtrain_naive_bayes\u001B[1;34m(X_train, y_train)\u001B[0m\n\u001B[0;32m     28\u001B[0m     prob_pos \u001B[38;5;241m=\u001B[39m (freq_pos) \u001B[38;5;241m/\u001B[39m (N_pos \u001B[38;5;241m+\u001B[39m V)\n\u001B[0;32m     29\u001B[0m     prob_neg \u001B[38;5;241m=\u001B[39m (freq_neg) \u001B[38;5;241m/\u001B[39m (N_neg \u001B[38;5;241m+\u001B[39m V)\n\u001B[1;32m---> 31\u001B[0m     loglikelihood[word] \u001B[38;5;241m=\u001B[39m np\u001B[38;5;241m.\u001B[39mlog(\u001B[43mprob_pos\u001B[49m\u001B[38;5;241;43m/\u001B[39;49m\u001B[43mprob_neg\u001B[49m)\n\u001B[0;32m     33\u001B[0m \u001B[38;5;28;01mreturn\u001B[39;00m loglikelihood, logprior\n",
      "\u001B[1;31mZeroDivisionError\u001B[0m: float division by zero"
     ]
    }
   ],
   "source": [
    " loglikelihood , logprior = train_naive_bayes( X_train, y_train)\n",
    "print(logprior)\n",
    "print(len(loglikelihood))"
   ],
   "metadata": {
    "collapsed": false
   }
  }
 ],
 "metadata": {
  "kernelspec": {
   "display_name": "Python 3",
   "language": "python",
   "name": "python3"
  },
  "language_info": {
   "codemirror_mode": {
    "name": "ipython",
    "version": 2
   },
   "file_extension": ".py",
   "mimetype": "text/x-python",
   "name": "python",
   "nbconvert_exporter": "python",
   "pygments_lexer": "ipython2",
   "version": "2.7.6"
  }
 },
 "nbformat": 4,
 "nbformat_minor": 0
}
